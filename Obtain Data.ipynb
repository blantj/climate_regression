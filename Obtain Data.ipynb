{
 "cells": [
  {
   "cell_type": "markdown",
   "id": "3d9215ca",
   "metadata": {},
   "source": [
    "# Import Libraries"
   ]
  },
  {
   "cell_type": "code",
   "execution_count": 1,
   "id": "fbce2c67",
   "metadata": {},
   "outputs": [],
   "source": [
    "import pandas as pd\n",
    "from requests import get\n",
    "from bs4 import BeautifulSoup\n",
    "from pandas_datareader import wb"
   ]
  },
  {
   "cell_type": "markdown",
   "id": "87a140fe",
   "metadata": {},
   "source": [
    "# Obtain Data"
   ]
  },
  {
   "cell_type": "markdown",
   "id": "2c56276f",
   "metadata": {},
   "source": [
    "Get html for webpage with list of country codes for all nations and territories"
   ]
  },
  {
   "cell_type": "code",
   "execution_count": 2,
   "id": "cea17a7b",
   "metadata": {},
   "outputs": [
    {
     "data": {
      "text/plain": [
       "<Response [200]>"
      ]
     },
     "execution_count": 2,
     "metadata": {},
     "output_type": "execute_result"
    }
   ],
   "source": [
    "response = get('https://www.iban.com/country-codes')\n",
    "response"
   ]
  },
  {
   "cell_type": "markdown",
   "id": "49948d26",
   "metadata": {},
   "source": [
    "Parse html to extract country names/codes for all nations and territories"
   ]
  },
  {
   "cell_type": "code",
   "execution_count": 3,
   "id": "009c32e0",
   "metadata": {},
   "outputs": [
    {
     "data": {
      "text/html": [
       "<div>\n",
       "<style scoped>\n",
       "    .dataframe tbody tr th:only-of-type {\n",
       "        vertical-align: middle;\n",
       "    }\n",
       "\n",
       "    .dataframe tbody tr th {\n",
       "        vertical-align: top;\n",
       "    }\n",
       "\n",
       "    .dataframe thead th {\n",
       "        text-align: right;\n",
       "    }\n",
       "</style>\n",
       "<table border=\"1\" class=\"dataframe\">\n",
       "  <thead>\n",
       "    <tr style=\"text-align: right;\">\n",
       "      <th></th>\n",
       "      <th>Country</th>\n",
       "      <th>Alpha-2 code</th>\n",
       "      <th>Alpha-3 code</th>\n",
       "      <th>Numeric</th>\n",
       "    </tr>\n",
       "  </thead>\n",
       "  <tbody>\n",
       "    <tr>\n",
       "      <th>0</th>\n",
       "      <td>Afghanistan</td>\n",
       "      <td>AF</td>\n",
       "      <td>AFG</td>\n",
       "      <td>004</td>\n",
       "    </tr>\n",
       "    <tr>\n",
       "      <th>1</th>\n",
       "      <td>Åland Islands</td>\n",
       "      <td>AX</td>\n",
       "      <td>ALA</td>\n",
       "      <td>248</td>\n",
       "    </tr>\n",
       "    <tr>\n",
       "      <th>2</th>\n",
       "      <td>Albania</td>\n",
       "      <td>AL</td>\n",
       "      <td>ALB</td>\n",
       "      <td>008</td>\n",
       "    </tr>\n",
       "    <tr>\n",
       "      <th>3</th>\n",
       "      <td>Algeria</td>\n",
       "      <td>DZ</td>\n",
       "      <td>DZA</td>\n",
       "      <td>012</td>\n",
       "    </tr>\n",
       "    <tr>\n",
       "      <th>4</th>\n",
       "      <td>American Samoa</td>\n",
       "      <td>AS</td>\n",
       "      <td>ASM</td>\n",
       "      <td>016</td>\n",
       "    </tr>\n",
       "    <tr>\n",
       "      <th>...</th>\n",
       "      <td>...</td>\n",
       "      <td>...</td>\n",
       "      <td>...</td>\n",
       "      <td>...</td>\n",
       "    </tr>\n",
       "    <tr>\n",
       "      <th>244</th>\n",
       "      <td>Wallis and Futuna</td>\n",
       "      <td>WF</td>\n",
       "      <td>WLF</td>\n",
       "      <td>876</td>\n",
       "    </tr>\n",
       "    <tr>\n",
       "      <th>245</th>\n",
       "      <td>Western Sahara</td>\n",
       "      <td>EH</td>\n",
       "      <td>ESH</td>\n",
       "      <td>732</td>\n",
       "    </tr>\n",
       "    <tr>\n",
       "      <th>246</th>\n",
       "      <td>Yemen</td>\n",
       "      <td>YE</td>\n",
       "      <td>YEM</td>\n",
       "      <td>887</td>\n",
       "    </tr>\n",
       "    <tr>\n",
       "      <th>247</th>\n",
       "      <td>Zambia</td>\n",
       "      <td>ZM</td>\n",
       "      <td>ZMB</td>\n",
       "      <td>894</td>\n",
       "    </tr>\n",
       "    <tr>\n",
       "      <th>248</th>\n",
       "      <td>Zimbabwe</td>\n",
       "      <td>ZW</td>\n",
       "      <td>ZWE</td>\n",
       "      <td>716</td>\n",
       "    </tr>\n",
       "  </tbody>\n",
       "</table>\n",
       "<p>249 rows × 4 columns</p>\n",
       "</div>"
      ],
      "text/plain": [
       "               Country Alpha-2 code Alpha-3 code Numeric\n",
       "0          Afghanistan           AF          AFG     004\n",
       "1        Åland Islands           AX          ALA     248\n",
       "2              Albania           AL          ALB     008\n",
       "3              Algeria           DZ          DZA     012\n",
       "4       American Samoa           AS          ASM     016\n",
       "..                 ...          ...          ...     ...\n",
       "244  Wallis and Futuna           WF          WLF     876\n",
       "245     Western Sahara           EH          ESH     732\n",
       "246              Yemen           YE          YEM     887\n",
       "247             Zambia           ZM          ZMB     894\n",
       "248           Zimbabwe           ZW          ZWE     716\n",
       "\n",
       "[249 rows x 4 columns]"
      ]
     },
     "execution_count": 3,
     "metadata": {},
     "output_type": "execute_result"
    }
   ],
   "source": [
    "soup = BeautifulSoup(response.content, 'html.parser')\n",
    "heading = soup.find('tr')\n",
    "heading_cells = heading.find_all('th')\n",
    "headers = []\n",
    "for heading_cell in heading_cells:\n",
    "    headers.append(heading_cell.text)\n",
    "table = soup.find('tbody')\n",
    "rows = table.find_all('tr')\n",
    "data = []\n",
    "for row in rows:\n",
    "    row_data = []\n",
    "    cells = row.find_all('td')\n",
    "    for cell in cells:\n",
    "        row_data.append(cell.text)\n",
    "    data.append(row_data)\n",
    "country_codes_df = pd.DataFrame(data, columns=headers)\n",
    "country_codes_df"
   ]
  },
  {
   "cell_type": "markdown",
   "id": "35c00ae3",
   "metadata": {},
   "source": [
    "Create list of country codes to scrape world bank world development indicators for"
   ]
  },
  {
   "cell_type": "code",
   "execution_count": 4,
   "id": "3e5f9b7f",
   "metadata": {},
   "outputs": [
    {
     "data": {
      "text/plain": [
       "['AFG', 'ALB', 'DZA', 'ASM', 'AND']"
      ]
     },
     "execution_count": 4,
     "metadata": {},
     "output_type": "execute_result"
    }
   ],
   "source": [
    "countries = list(country_codes_df['Alpha-3 code'].values)\n",
    "countries.remove('ALA')\n",
    "countries.remove('AIA')\n",
    "countries.remove('ATA')\n",
    "countries.remove('BES')\n",
    "countries.remove('BVT')\n",
    "countries.remove('IOT')\n",
    "countries.remove('CXR')\n",
    "countries.remove('CCK')\n",
    "countries.remove('COK')\n",
    "countries.remove('FLK')\n",
    "countries.remove('GUF')\n",
    "countries.remove('ATF')\n",
    "countries.remove('GLP')\n",
    "countries.remove('GGY')\n",
    "countries.remove('HMD')\n",
    "countries.remove('VAT')\n",
    "countries.remove('JEY')\n",
    "countries.remove('MTQ')\n",
    "countries.remove('MYT')\n",
    "countries.remove('MSR')\n",
    "countries.remove('NIU')\n",
    "countries.remove('NFK')\n",
    "countries.remove('PCN')\n",
    "countries.remove('REU')\n",
    "countries.remove('BLM')\n",
    "countries.remove('SHN')\n",
    "countries.remove('SPM')\n",
    "countries.remove('SGS')\n",
    "countries.remove('SJM')\n",
    "countries.remove('TWN')\n",
    "countries.remove('TKL')\n",
    "countries.remove('UMI')\n",
    "countries.remove('WLF')\n",
    "countries.remove('ESH')\n",
    "countries[0:5]"
   ]
  },
  {
   "cell_type": "markdown",
   "id": "74248ba9",
   "metadata": {},
   "source": [
    "Search world bank id for gdp world development indicator"
   ]
  },
  {
   "cell_type": "code",
   "execution_count": 5,
   "id": "423a73d3",
   "metadata": {},
   "outputs": [
    {
     "data": {
      "text/plain": [
       "id                                                       NY.GDP.MKTP.CD\n",
       "name                                                  GDP (current US$)\n",
       "unit                                                                   \n",
       "source                                     World Development Indicators\n",
       "sourceNote            GDP at purchaser's prices is the sum of gross ...\n",
       "sourceOrganization    b'World Bank national accounts data, and OECD ...\n",
       "topics                                                 Economy & Growth\n",
       "Name: 10501, dtype: object"
      ]
     },
     "execution_count": 5,
     "metadata": {},
     "output_type": "execute_result"
    }
   ],
   "source": [
    "gdp_search = wb.search('GDP')\n",
    "gdp_search[gdp_search['source']=='World Development Indicators'].loc[10501]"
   ]
  },
  {
   "cell_type": "markdown",
   "id": "ea14adfe",
   "metadata": {},
   "source": [
    "Fetch gdp data by country from world development indicators database"
   ]
  },
  {
   "cell_type": "code",
   "execution_count": 6,
   "id": "93ab9b26",
   "metadata": {},
   "outputs": [
    {
     "data": {
      "text/html": [
       "<div>\n",
       "<style scoped>\n",
       "    .dataframe tbody tr th:only-of-type {\n",
       "        vertical-align: middle;\n",
       "    }\n",
       "\n",
       "    .dataframe tbody tr th {\n",
       "        vertical-align: top;\n",
       "    }\n",
       "\n",
       "    .dataframe thead th {\n",
       "        text-align: right;\n",
       "    }\n",
       "</style>\n",
       "<table border=\"1\" class=\"dataframe\">\n",
       "  <thead>\n",
       "    <tr style=\"text-align: right;\">\n",
       "      <th></th>\n",
       "      <th></th>\n",
       "      <th>NY.GDP.MKTP.CD</th>\n",
       "    </tr>\n",
       "    <tr>\n",
       "      <th>country</th>\n",
       "      <th>year</th>\n",
       "      <th></th>\n",
       "    </tr>\n",
       "  </thead>\n",
       "  <tbody>\n",
       "    <tr>\n",
       "      <th>Aruba</th>\n",
       "      <th>2019</th>\n",
       "      <td>3.310056e+09</td>\n",
       "    </tr>\n",
       "    <tr>\n",
       "      <th>Afghanistan</th>\n",
       "      <th>2019</th>\n",
       "      <td>1.879945e+10</td>\n",
       "    </tr>\n",
       "    <tr>\n",
       "      <th>Angola</th>\n",
       "      <th>2019</th>\n",
       "      <td>6.930910e+10</td>\n",
       "    </tr>\n",
       "    <tr>\n",
       "      <th>Albania</th>\n",
       "      <th>2019</th>\n",
       "      <td>1.540183e+10</td>\n",
       "    </tr>\n",
       "    <tr>\n",
       "      <th>Andorra</th>\n",
       "      <th>2019</th>\n",
       "      <td>3.155149e+09</td>\n",
       "    </tr>\n",
       "    <tr>\n",
       "      <th>...</th>\n",
       "      <th>...</th>\n",
       "      <td>...</td>\n",
       "    </tr>\n",
       "    <tr>\n",
       "      <th>Samoa</th>\n",
       "      <th>2019</th>\n",
       "      <td>8.520071e+08</td>\n",
       "    </tr>\n",
       "    <tr>\n",
       "      <th>Yemen, Rep.</th>\n",
       "      <th>2019</th>\n",
       "      <td>2.188761e+10</td>\n",
       "    </tr>\n",
       "    <tr>\n",
       "      <th>South Africa</th>\n",
       "      <th>2019</th>\n",
       "      <td>3.879346e+11</td>\n",
       "    </tr>\n",
       "    <tr>\n",
       "      <th>Zambia</th>\n",
       "      <th>2019</th>\n",
       "      <td>2.330867e+10</td>\n",
       "    </tr>\n",
       "    <tr>\n",
       "      <th>Zimbabwe</th>\n",
       "      <th>2019</th>\n",
       "      <td>1.928429e+10</td>\n",
       "    </tr>\n",
       "  </tbody>\n",
       "</table>\n",
       "<p>215 rows × 1 columns</p>\n",
       "</div>"
      ],
      "text/plain": [
       "                   NY.GDP.MKTP.CD\n",
       "country      year                \n",
       "Aruba        2019    3.310056e+09\n",
       "Afghanistan  2019    1.879945e+10\n",
       "Angola       2019    6.930910e+10\n",
       "Albania      2019    1.540183e+10\n",
       "Andorra      2019    3.155149e+09\n",
       "...                           ...\n",
       "Samoa        2019    8.520071e+08\n",
       "Yemen, Rep.  2019    2.188761e+10\n",
       "South Africa 2019    3.879346e+11\n",
       "Zambia       2019    2.330867e+10\n",
       "Zimbabwe     2019    1.928429e+10\n",
       "\n",
       "[215 rows x 1 columns]"
      ]
     },
     "execution_count": 6,
     "metadata": {},
     "output_type": "execute_result"
    }
   ],
   "source": [
    "gdp_df = wb.download(indicator='NY.GDP.MKTP.CD', start=2019, end=2019, country=countries)\n",
    "gdp_df"
   ]
  },
  {
   "cell_type": "markdown",
   "id": "befcb53f",
   "metadata": {},
   "source": [
    "Search world bank id for co2 emission gdp world development indicator"
   ]
  },
  {
   "cell_type": "code",
   "execution_count": 7,
   "id": "dac29bbd",
   "metadata": {},
   "outputs": [
    {
     "data": {
      "text/plain": [
       "id                                                       EN.ATM.CO2E.KT\n",
       "name                                                 CO2 emissions (kt)\n",
       "unit                                                                   \n",
       "source                                     World Development Indicators\n",
       "sourceNote            Carbon dioxide emissions are those stemming fr...\n",
       "sourceOrganization    b'Climate Watch. 2020. GHG Emissions. Washingt...\n",
       "topics                                    Climate Change ; Environment \n",
       "Name: 5999, dtype: object"
      ]
     },
     "execution_count": 7,
     "metadata": {},
     "output_type": "execute_result"
    }
   ],
   "source": [
    "pollution_search = wb.search('co2')\n",
    "pollution_search[pollution_search['source']=='World Development Indicators'].loc[5999]"
   ]
  },
  {
   "cell_type": "markdown",
   "id": "9b36ade4",
   "metadata": {},
   "source": [
    "Fetch co2 emissions data by country from world developmentindicators database"
   ]
  },
  {
   "cell_type": "code",
   "execution_count": 8,
   "id": "4e4b92cf",
   "metadata": {},
   "outputs": [
    {
     "data": {
      "text/html": [
       "<div>\n",
       "<style scoped>\n",
       "    .dataframe tbody tr th:only-of-type {\n",
       "        vertical-align: middle;\n",
       "    }\n",
       "\n",
       "    .dataframe tbody tr th {\n",
       "        vertical-align: top;\n",
       "    }\n",
       "\n",
       "    .dataframe thead th {\n",
       "        text-align: right;\n",
       "    }\n",
       "</style>\n",
       "<table border=\"1\" class=\"dataframe\">\n",
       "  <thead>\n",
       "    <tr style=\"text-align: right;\">\n",
       "      <th></th>\n",
       "      <th></th>\n",
       "      <th>EN.ATM.CO2E.KT</th>\n",
       "    </tr>\n",
       "    <tr>\n",
       "      <th>country</th>\n",
       "      <th>year</th>\n",
       "      <th></th>\n",
       "    </tr>\n",
       "  </thead>\n",
       "  <tbody>\n",
       "    <tr>\n",
       "      <th>Aruba</th>\n",
       "      <th>2019</th>\n",
       "      <td>NaN</td>\n",
       "    </tr>\n",
       "    <tr>\n",
       "      <th>Afghanistan</th>\n",
       "      <th>2019</th>\n",
       "      <td>6079.999924</td>\n",
       "    </tr>\n",
       "    <tr>\n",
       "      <th>Angola</th>\n",
       "      <th>2019</th>\n",
       "      <td>25209.999084</td>\n",
       "    </tr>\n",
       "    <tr>\n",
       "      <th>Albania</th>\n",
       "      <th>2019</th>\n",
       "      <td>4829.999924</td>\n",
       "    </tr>\n",
       "    <tr>\n",
       "      <th>Andorra</th>\n",
       "      <th>2019</th>\n",
       "      <td>500.000000</td>\n",
       "    </tr>\n",
       "    <tr>\n",
       "      <th>...</th>\n",
       "      <th>...</th>\n",
       "      <td>...</td>\n",
       "    </tr>\n",
       "    <tr>\n",
       "      <th>Samoa</th>\n",
       "      <th>2019</th>\n",
       "      <td>300.000012</td>\n",
       "    </tr>\n",
       "    <tr>\n",
       "      <th>Yemen, Rep.</th>\n",
       "      <th>2019</th>\n",
       "      <td>11100.000381</td>\n",
       "    </tr>\n",
       "    <tr>\n",
       "      <th>South Africa</th>\n",
       "      <th>2019</th>\n",
       "      <td>439640.014648</td>\n",
       "    </tr>\n",
       "    <tr>\n",
       "      <th>Zambia</th>\n",
       "      <th>2019</th>\n",
       "      <td>6800.000191</td>\n",
       "    </tr>\n",
       "    <tr>\n",
       "      <th>Zimbabwe</th>\n",
       "      <th>2019</th>\n",
       "      <td>11760.000229</td>\n",
       "    </tr>\n",
       "  </tbody>\n",
       "</table>\n",
       "<p>215 rows × 1 columns</p>\n",
       "</div>"
      ],
      "text/plain": [
       "                   EN.ATM.CO2E.KT\n",
       "country      year                \n",
       "Aruba        2019             NaN\n",
       "Afghanistan  2019     6079.999924\n",
       "Angola       2019    25209.999084\n",
       "Albania      2019     4829.999924\n",
       "Andorra      2019      500.000000\n",
       "...                           ...\n",
       "Samoa        2019      300.000012\n",
       "Yemen, Rep.  2019    11100.000381\n",
       "South Africa 2019   439640.014648\n",
       "Zambia       2019     6800.000191\n",
       "Zimbabwe     2019    11760.000229\n",
       "\n",
       "[215 rows x 1 columns]"
      ]
     },
     "execution_count": 8,
     "metadata": {},
     "output_type": "execute_result"
    }
   ],
   "source": [
    "pollution_df = wb.download(indicator='EN.ATM.CO2E.KT', start=2019, end=2019, country=countries)\n",
    "pollution_df"
   ]
  },
  {
   "cell_type": "markdown",
   "id": "81396083",
   "metadata": {},
   "source": [
    "Merge dfs with co2 data and gdp data"
   ]
  },
  {
   "cell_type": "code",
   "execution_count": 9,
   "id": "79474b9d",
   "metadata": {},
   "outputs": [
    {
     "data": {
      "text/html": [
       "<div>\n",
       "<style scoped>\n",
       "    .dataframe tbody tr th:only-of-type {\n",
       "        vertical-align: middle;\n",
       "    }\n",
       "\n",
       "    .dataframe tbody tr th {\n",
       "        vertical-align: top;\n",
       "    }\n",
       "\n",
       "    .dataframe thead th {\n",
       "        text-align: right;\n",
       "    }\n",
       "</style>\n",
       "<table border=\"1\" class=\"dataframe\">\n",
       "  <thead>\n",
       "    <tr style=\"text-align: right;\">\n",
       "      <th></th>\n",
       "      <th>country</th>\n",
       "      <th>year</th>\n",
       "      <th>NY.GDP.MKTP.CD</th>\n",
       "      <th>EN.ATM.CO2E.KT</th>\n",
       "    </tr>\n",
       "  </thead>\n",
       "  <tbody>\n",
       "    <tr>\n",
       "      <th>0</th>\n",
       "      <td>Aruba</td>\n",
       "      <td>2019</td>\n",
       "      <td>3.310056e+09</td>\n",
       "      <td>NaN</td>\n",
       "    </tr>\n",
       "    <tr>\n",
       "      <th>1</th>\n",
       "      <td>Afghanistan</td>\n",
       "      <td>2019</td>\n",
       "      <td>1.879945e+10</td>\n",
       "      <td>6079.999924</td>\n",
       "    </tr>\n",
       "    <tr>\n",
       "      <th>2</th>\n",
       "      <td>Angola</td>\n",
       "      <td>2019</td>\n",
       "      <td>6.930910e+10</td>\n",
       "      <td>25209.999084</td>\n",
       "    </tr>\n",
       "    <tr>\n",
       "      <th>3</th>\n",
       "      <td>Albania</td>\n",
       "      <td>2019</td>\n",
       "      <td>1.540183e+10</td>\n",
       "      <td>4829.999924</td>\n",
       "    </tr>\n",
       "    <tr>\n",
       "      <th>4</th>\n",
       "      <td>Andorra</td>\n",
       "      <td>2019</td>\n",
       "      <td>3.155149e+09</td>\n",
       "      <td>500.000000</td>\n",
       "    </tr>\n",
       "    <tr>\n",
       "      <th>...</th>\n",
       "      <td>...</td>\n",
       "      <td>...</td>\n",
       "      <td>...</td>\n",
       "      <td>...</td>\n",
       "    </tr>\n",
       "    <tr>\n",
       "      <th>210</th>\n",
       "      <td>Samoa</td>\n",
       "      <td>2019</td>\n",
       "      <td>8.520071e+08</td>\n",
       "      <td>300.000012</td>\n",
       "    </tr>\n",
       "    <tr>\n",
       "      <th>211</th>\n",
       "      <td>Yemen, Rep.</td>\n",
       "      <td>2019</td>\n",
       "      <td>2.188761e+10</td>\n",
       "      <td>11100.000381</td>\n",
       "    </tr>\n",
       "    <tr>\n",
       "      <th>212</th>\n",
       "      <td>South Africa</td>\n",
       "      <td>2019</td>\n",
       "      <td>3.879346e+11</td>\n",
       "      <td>439640.014648</td>\n",
       "    </tr>\n",
       "    <tr>\n",
       "      <th>213</th>\n",
       "      <td>Zambia</td>\n",
       "      <td>2019</td>\n",
       "      <td>2.330867e+10</td>\n",
       "      <td>6800.000191</td>\n",
       "    </tr>\n",
       "    <tr>\n",
       "      <th>214</th>\n",
       "      <td>Zimbabwe</td>\n",
       "      <td>2019</td>\n",
       "      <td>1.928429e+10</td>\n",
       "      <td>11760.000229</td>\n",
       "    </tr>\n",
       "  </tbody>\n",
       "</table>\n",
       "<p>215 rows × 4 columns</p>\n",
       "</div>"
      ],
      "text/plain": [
       "          country  year  NY.GDP.MKTP.CD  EN.ATM.CO2E.KT\n",
       "0           Aruba  2019    3.310056e+09             NaN\n",
       "1     Afghanistan  2019    1.879945e+10     6079.999924\n",
       "2          Angola  2019    6.930910e+10    25209.999084\n",
       "3         Albania  2019    1.540183e+10     4829.999924\n",
       "4         Andorra  2019    3.155149e+09      500.000000\n",
       "..            ...   ...             ...             ...\n",
       "210         Samoa  2019    8.520071e+08      300.000012\n",
       "211   Yemen, Rep.  2019    2.188761e+10    11100.000381\n",
       "212  South Africa  2019    3.879346e+11   439640.014648\n",
       "213        Zambia  2019    2.330867e+10     6800.000191\n",
       "214      Zimbabwe  2019    1.928429e+10    11760.000229\n",
       "\n",
       "[215 rows x 4 columns]"
      ]
     },
     "execution_count": 9,
     "metadata": {},
     "output_type": "execute_result"
    }
   ],
   "source": [
    "df = pd.merge(gdp_df, pollution_df, on=['country', 'year'])\n",
    "df.reset_index(inplace=True)\n",
    "df"
   ]
  },
  {
   "cell_type": "markdown",
   "id": "bef0941c",
   "metadata": {},
   "source": [
    "Save df to csv file"
   ]
  },
  {
   "cell_type": "code",
   "execution_count": 10,
   "id": "99a4d3cb",
   "metadata": {},
   "outputs": [],
   "source": [
    "df.to_csv('data/climate_data.csv')"
   ]
  },
  {
   "cell_type": "code",
   "execution_count": null,
   "id": "8ac08604",
   "metadata": {},
   "outputs": [],
   "source": []
  },
  {
   "cell_type": "code",
   "execution_count": null,
   "id": "6ef80d13",
   "metadata": {},
   "outputs": [],
   "source": []
  },
  {
   "cell_type": "code",
   "execution_count": null,
   "id": "581c5a14",
   "metadata": {},
   "outputs": [],
   "source": []
  },
  {
   "cell_type": "code",
   "execution_count": null,
   "id": "3cb66413",
   "metadata": {},
   "outputs": [],
   "source": []
  }
 ],
 "metadata": {
  "kernelspec": {
   "display_name": "Python 3 (ipykernel)",
   "language": "python",
   "name": "python3"
  },
  "language_info": {
   "codemirror_mode": {
    "name": "ipython",
    "version": 3
   },
   "file_extension": ".py",
   "mimetype": "text/x-python",
   "name": "python",
   "nbconvert_exporter": "python",
   "pygments_lexer": "ipython3",
   "version": "3.9.12"
  }
 },
 "nbformat": 4,
 "nbformat_minor": 5
}
